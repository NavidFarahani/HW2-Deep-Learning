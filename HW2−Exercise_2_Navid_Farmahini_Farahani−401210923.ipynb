{
  "cells": [
    {
      "cell_type": "code",
      "source": [
        "#In the name of God\n",
        "\n",
        "student_id = 401210923\n",
        "student_name = \"Navid Farahani\"\n",
        "\n",
        "print(\"your student id:\", student_id)\n",
        "print(\"your name:\", student_name)\n",
        "\n",
        "print(\" For better understanding the Forward-Forward algorithm, I used watched this video : https://www.youtube.com/watch?v=kvdOow3__CI\")\n",
        "print(\" For explaining the codes, I wrote comment for them.\")\n",
        "import numpy as np\n",
        "import torch\n",
        "import torch.nn as nn\n",
        "from torchvision.datasets import MNIST\n",
        "from torchvision import transforms\n",
        "from torch.optim import Adam\n",
        "import matplotlib.pyplot as plt\n",
        "import random"
      ],
      "metadata": {
        "colab": {
          "base_uri": "https://localhost:8080/"
        },
        "id": "YcDvUA7b6PSG",
        "outputId": "d2b64eff-7cc7-44d2-f8f8-c6b5b1345e27"
      },
      "execution_count": 1,
      "outputs": [
        {
          "output_type": "stream",
          "name": "stdout",
          "text": [
            "your student id: 401210923\n",
            "your name: Navid Farahani\n",
            " For better understanding the Forward-Forward algorithm, I used watched this video : https://www.youtube.com/watch?v=kvdOow3__CI\n",
            " For explaining the codes, I wrote comment for them.\n"
          ]
        }
      ]
    },
    {
      "cell_type": "code",
      "source": [
        "\n",
        "## Part A\n",
        "# Selecting the device:\n",
        "\n",
        "if torch.cuda.is_available():\n",
        "    device=torch.device(\"cuda\")\n",
        "else:\n",
        "    device=torch.device(\"cpu\")\n",
        "\n",
        "# choosing number of images, number of test images are considered 1/5 of train's\n",
        "\n",
        "num_train=50000\n",
        "num_test=num_train//5\n",
        "\n",
        "# If the device is GPU, we determine num_workers\n",
        "if torch.cuda.is_available():\n",
        "    cuda_kwargs = {\"num_workers\": 3, \"pin_memory\": True, \"shuffle\": True}\n",
        "    # train_kwargs.update(cuda_kwargs)\n",
        "    # test_kwargs.update(cuda_kwargs)\n",
        "\n",
        "# we use pytorch for MNISt data, so we can apply a transform to images for normaliaztion with zero mean and unit std.\n",
        "transform = transforms.Compose([transforms.ToTensor(),transforms.Normalize((0,),(1,)),])\n",
        "\n",
        "#determining test and train images\n",
        "\n",
        "trainset = MNIST('~/.pytorch/MNIST_data/', download=True, train=True, transform=transform)\n",
        "train_loader = torch.utils.data.DataLoader(trainset, batch_size=num_train, shuffle=True)\n",
        "\n",
        "\n",
        "testset = MNIST('~/.pytorch/MNIST_data/',download=True, train=False, transform=transform)\n",
        "test_loader = torch.utils.data.DataLoader(testset, batch_size=num_test,shuffle=False)\n",
        "\n",
        "# taking variables to device and vectorizing the images.\n",
        "x,y=next(iter(train_loader))\n",
        "x,y=x.to(device),y.to(device)\n",
        "x=torch.reshape(x,(num_train,x.shape[2]*x.shape[3]))\n"
      ],
      "metadata": {
        "colab": {
          "base_uri": "https://localhost:8080/"
        },
        "id": "swxv0E6v6kOU",
        "outputId": "00f5d4ee-cb53-4adb-b123-b2ee1a087fdf"
      },
      "execution_count": 2,
      "outputs": [
        {
          "output_type": "stream",
          "name": "stdout",
          "text": [
            "Downloading http://yann.lecun.com/exdb/mnist/train-images-idx3-ubyte.gz\n",
            "Downloading http://yann.lecun.com/exdb/mnist/train-images-idx3-ubyte.gz to /root/.pytorch/MNIST_data/MNIST/raw/train-images-idx3-ubyte.gz\n"
          ]
        },
        {
          "output_type": "stream",
          "name": "stderr",
          "text": [
            "100%|██████████| 9912422/9912422 [00:00<00:00, 93963204.67it/s]\n"
          ]
        },
        {
          "output_type": "stream",
          "name": "stdout",
          "text": [
            "Extracting /root/.pytorch/MNIST_data/MNIST/raw/train-images-idx3-ubyte.gz to /root/.pytorch/MNIST_data/MNIST/raw\n",
            "\n",
            "Downloading http://yann.lecun.com/exdb/mnist/train-labels-idx1-ubyte.gz\n",
            "Downloading http://yann.lecun.com/exdb/mnist/train-labels-idx1-ubyte.gz to /root/.pytorch/MNIST_data/MNIST/raw/train-labels-idx1-ubyte.gz\n"
          ]
        },
        {
          "output_type": "stream",
          "name": "stderr",
          "text": [
            "100%|██████████| 28881/28881 [00:00<00:00, 58042977.40it/s]\n"
          ]
        },
        {
          "output_type": "stream",
          "name": "stdout",
          "text": [
            "Extracting /root/.pytorch/MNIST_data/MNIST/raw/train-labels-idx1-ubyte.gz to /root/.pytorch/MNIST_data/MNIST/raw\n",
            "\n",
            "Downloading http://yann.lecun.com/exdb/mnist/t10k-images-idx3-ubyte.gz\n",
            "Downloading http://yann.lecun.com/exdb/mnist/t10k-images-idx3-ubyte.gz to /root/.pytorch/MNIST_data/MNIST/raw/t10k-images-idx3-ubyte.gz\n"
          ]
        },
        {
          "output_type": "stream",
          "name": "stderr",
          "text": [
            "100%|██████████| 1648877/1648877 [00:00<00:00, 36659518.04it/s]"
          ]
        },
        {
          "output_type": "stream",
          "name": "stdout",
          "text": [
            "Extracting /root/.pytorch/MNIST_data/MNIST/raw/t10k-images-idx3-ubyte.gz to /root/.pytorch/MNIST_data/MNIST/raw\n"
          ]
        },
        {
          "output_type": "stream",
          "name": "stderr",
          "text": [
            "\n"
          ]
        },
        {
          "output_type": "stream",
          "name": "stdout",
          "text": [
            "\n",
            "Downloading http://yann.lecun.com/exdb/mnist/t10k-labels-idx1-ubyte.gz\n",
            "Downloading http://yann.lecun.com/exdb/mnist/t10k-labels-idx1-ubyte.gz to /root/.pytorch/MNIST_data/MNIST/raw/t10k-labels-idx1-ubyte.gz\n"
          ]
        },
        {
          "output_type": "stream",
          "name": "stderr",
          "text": [
            "100%|██████████| 4542/4542 [00:00<00:00, 2323518.57it/s]\n"
          ]
        },
        {
          "output_type": "stream",
          "name": "stdout",
          "text": [
            "Extracting /root/.pytorch/MNIST_data/MNIST/raw/t10k-labels-idx1-ubyte.gz to /root/.pytorch/MNIST_data/MNIST/raw\n",
            "\n"
          ]
        }
      ]
    },
    {
      "cell_type": "code",
      "source": [
        "## Part B\n",
        "\n",
        "# according to the article, we need to put the one-hot labels on the images for classification\n",
        "# so we wrote combined_image function\n",
        "def combined_image(x, y):\n",
        "    x_and_y=x.clone()\n",
        "    x_and_y[:,:10]=0.0\n",
        "    xlabels=range(x.shape[0])\n",
        "    x_and_y[xlabels,y]=1\n",
        "    return x_and_y\n",
        "\n",
        "# we have a one-hot vector for every images, so for negative images we need to shuffle that vector.\n",
        "# so we wrote shuffled_y function\n",
        "\n",
        "def shuffled_y(y):\n",
        "    y=y.to('cpu')\n",
        "    y=y.numpy()\n",
        "    y_shuffled=np.zeros(y.shape,np.uint8)\n",
        "    for i in range(np.shape(y)[0]):\n",
        "        y_shuffled[i]=np.random.randint(10)\n",
        "        while(y_shuffled[i]==y[i]):\n",
        "            y_shuffled[i]=np.random.randint(10)\n",
        "    y_shuffled=torch.from_numpy(y_shuffled)\n",
        "    return y_shuffled.to(device)\n",
        "\n",
        "\n",
        "\n",
        "\n",
        "# positive data is combining labels and the images\n",
        "x_positive = combined_image(x, y)\n",
        "\n",
        "# negative data is combining shuffled labels and the images.\n",
        "y_negative = shuffled_y(y)\n",
        "y3=torch.zeros_like(y)\n",
        "y3[:]=y_negative[:]\n",
        "x_negative = combined_image(x, y3)\n",
        "\n",
        "\n",
        "# for better understanding, I plot an image fo positive and negative images.\n",
        "\n",
        "index_for_img=np.random.randint(num_train)\n",
        "plt.subplot(1,2,1)\n",
        "the_img_pos=torch.reshape(x_positive[index_for_img,:],(28,28))\n",
        "the_img_pos=the_img_pos.to('cpu')\n",
        "the_img_numpy_pos=the_img_pos.numpy()\n",
        "plt.imshow(np.array(255*the_img_numpy_pos,dtype=np.uint8),cmap='gray')\n",
        "plt.title(\"Positive Data\")\n",
        "\n",
        "plt.subplot(1,2,2)\n",
        "the_img_neg=torch.reshape(x_negative[index_for_img,:],(28,28))\n",
        "the_img_neg=the_img_neg.to('cpu')\n",
        "the_img_numpy_neg=the_img_neg.numpy()\n",
        "plt.imshow(np.array(255*the_img_numpy_neg,dtype=np.uint8),cmap='gray')\n",
        "plt.title(\"Negative Data\")\n"
      ],
      "metadata": {
        "colab": {
          "base_uri": "https://localhost:8080/",
          "height": 326
        },
        "id": "2pXkvjX36nBP",
        "outputId": "a0c88a18-c462-4f7e-ac84-0c7f62d98ff3"
      },
      "execution_count": 3,
      "outputs": [
        {
          "output_type": "execute_result",
          "data": {
            "text/plain": [
              "Text(0.5, 1.0, 'Negative Data')"
            ]
          },
          "metadata": {},
          "execution_count": 3
        },
        {
          "output_type": "display_data",
          "data": {
            "text/plain": [
              "<Figure size 640x480 with 2 Axes>"
            ],
            "image/png": "[encoded data removed]"
          },
          "metadata": {}
        }
      ]
    },
    {
      "cell_type": "code",
      "source": [
        "## Part C\n",
        "\n",
        "class TheLayerInNN(nn.Linear):\n",
        "    def __init__(self, in_features, out_features, bias=True, device=None, dtype=None):\n",
        "        super().__init__(in_features, out_features, bias, device, dtype)\n",
        "        self.num_epochs = 1000\n",
        "        self.threshold = 2 # it seems that the best value for threshold is 2 by doing experiments.\n",
        "\n",
        "\n",
        "    def forward(self, x):\n",
        "        #We normalize all x and then do forward pass.\n",
        "        x=x/(x.norm(2,1,keepdim=True)+1e-4)\n",
        "        # We do forward pass, (like HW 2, Python Exercise, Question 1) and use ReLU activation function\n",
        "        # Moreover, we had to add 1 dimension to make the add operator possible between b and xw.T\n",
        "        z=torch.matmul(x, self.weight.T) + torch.unsqueeze(self.bias,(0))\n",
        "        return torch.relu(z)\n",
        "\n",
        "    def train(self,x_positive,x_negative):\n",
        "        opt_function=Adam(self.parameters(),lr=0.03)\n",
        "        #In each epoch, we calculate\n",
        "        for i in range(self.num_epochs):\n",
        "\n",
        "            # To compute the goodness, we need to use power 2 of x_positive and x_negative to compare them\n",
        "            # with the threshold.\n",
        "\n",
        "            # The optimization function is power 2 of the output of the neural.\n",
        "            # Also we use the mean on all the weights to creat a number of every image.\n",
        "            # Thus, for every image, we can compare it with a threshold and decide that what class should it be classified\n",
        "\n",
        "            positive_data=torch.mean(self.forward(x_positive)**2,axis=1)\n",
        "            negative_data=torch.mean(self.forward(x_negative)**2,axis=1)\n",
        "\n",
        "            #ccording to objective function mentioned in the quesion we need to concatenate the two parts\n",
        "            # of the loss, so we have:\n",
        "\n",
        "            loss=torch.log(1+torch.exp(torch.cat([self.threshold-positive_data,negative_data-self.threshold])))\n",
        "            loss=torch.mean(loss)\n",
        "\n",
        "            # we set gradient to zero for calculation a forward gradient according to next lines:\n",
        "            opt_function.zero_grad()\n",
        "            loss.backward()\n",
        "\n",
        "            #We did not use backpropagation, we just update the value of loss by using loss.backward()\n",
        "            opt_function.step()\n",
        "            if i%25== 0:\n",
        "                print(\"Loss after epoch \"+str(i)+\" is :\"+str(loss.item()))\n",
        "        #for hardware issues, we use .detach()\n",
        "        return self.forward(x_positive).detach(), self.forward(x_negative).detach()\n",
        "\n",
        "\n",
        "\n",
        "\n",
        "class ForwardToForwardNN(torch.nn.Module):\n",
        "    def __init__(self, dims):\n",
        "\n",
        "        super().__init__()\n",
        "        self.layers = []\n",
        "        # if we have L layers, we need to consider L-1 stages\n",
        "        #for calculating weights, so we append all the layers:\n",
        "        L=len(dims)\n",
        "        for d in range(L-1):\n",
        "            self.layers=self.layers+[(TheLayerInNN(dims[d],dims[d+1]).to(device))]\n",
        "\n",
        "\n",
        "    #In all layers, we calculate x_positive and x_negative and pass these arguments through the network.\n",
        "\n",
        "\n",
        "    def train(self, x_positive, x_negative):\n",
        "        for i, layer in enumerate(self.layers):\n",
        "            x_positive,x_negative=layer.train(x_positive,x_negative)\n",
        "\n",
        "\n",
        "\n",
        "    def predict(self, x):\n",
        "        goodness_per_label = []\n",
        "        for label in range(10):\n",
        "            #We consider all labels from 0 to 9 in MNIST data, so\n",
        "            # we determine x_positive for all these.\n",
        "            x_positive=combined_image(x,label)\n",
        "            goodness=[]\n",
        "            # In all layers of the network, we first, pass the input through network,\n",
        "            # then calculate loss_function( or goodness )\n",
        "\n",
        "            # Note that for all goodnesses, we combination\n",
        "            # the previous value and new value of goodness using \"+\" with the new list.\n",
        "\n",
        "            for layer in self.layers:\n",
        "                x_positive = layer(x_positive)\n",
        "                goodness=goodness+[torch.mean(x_positive*x_positive,axis=1)]\n",
        "\n",
        "            goodness_per_label+=[torch.unsqueeze(sum(goodness),(1))]\n",
        "\n",
        "        #We have 10 classes, so we concatenate features to decide which class has the most probability.\n",
        "        #by the following code:\n",
        "        goodness_per_label=torch.cat(goodness_per_label,1)\n",
        "\n",
        "        #We consider the maximum value among the value that goodness decides as the predicted label.\n",
        "        return goodness_per_label.argmax(1)\n",
        "\n",
        "\n",
        "\n",
        "\n",
        "dims=[x.shape[1],256,256]\n",
        "net=ForwardToForwardNN(dims=dims)\n",
        "#net=Net([x.shape[1],2000,2000,2000,2000])# it seems that the proposed architecture in the article is too massive!\n",
        "# so I used a 256*256 hidden layers instead of 2000*2000*2000*2000.\n",
        "\n",
        "net.train(x_positive,x_negative)\n"
      ],
      "metadata": {
        "colab": {
          "base_uri": "https://localhost:8080/"
        },
        "id": "ENkL55zn63tO",
        "outputId": "4f815a0f-90a6-4558-a567-bf6fe8675df5"
      },
      "execution_count": 4,
      "outputs": [
        {
          "output_type": "stream",
          "name": "stdout",
          "text": [
            "Loss after epoch 0 is :1.1267706155776978\n",
            "Loss after epoch 25 is :0.7183191776275635\n",
            "Loss after epoch 50 is :0.7027506232261658\n",
            "Loss after epoch 75 is :0.6971085667610168\n",
            "Loss after epoch 100 is :0.6907996535301208\n",
            "Loss after epoch 125 is :0.6804167032241821\n",
            "Loss after epoch 150 is :0.6635582447052002\n",
            "Loss after epoch 175 is :0.6387032866477966\n",
            "Loss after epoch 200 is :0.6089634895324707\n",
            "Loss after epoch 225 is :0.5794064998626709\n",
            "Loss after epoch 250 is :0.5518003702163696\n",
            "Loss after epoch 275 is :0.5266143083572388\n",
            "Loss after epoch 300 is :0.5039002895355225\n",
            "Loss after epoch 325 is :0.48359233140945435\n",
            "Loss after epoch 350 is :0.4654412865638733\n",
            "Loss after epoch 375 is :0.4493106007575989\n",
            "Loss after epoch 400 is :0.4350229501724243\n",
            "Loss after epoch 425 is :0.4223118722438812\n",
            "Loss after epoch 450 is :0.4109235107898712\n",
            "Loss after epoch 475 is :0.4006335735321045\n",
            "Loss after epoch 500 is :0.3912636637687683\n",
            "Loss after epoch 525 is :0.3826829493045807\n",
            "Loss after epoch 550 is :0.37476202845573425\n",
            "Loss after epoch 575 is :0.3674147427082062\n",
            "Loss after epoch 600 is :0.36058327555656433\n",
            "Loss after epoch 625 is :0.3541930317878723\n",
            "Loss after epoch 650 is :0.3481599986553192\n",
            "Loss after epoch 675 is :0.3424042761325836\n",
            "Loss after epoch 700 is :0.3368820250034332\n",
            "Loss after epoch 725 is :0.33159688115119934\n",
            "Loss after epoch 750 is :0.3265203833580017\n",
            "Loss after epoch 775 is :0.32161590456962585\n",
            "Loss after epoch 800 is :0.31687361001968384\n",
            "Loss after epoch 825 is :0.31228119134902954\n",
            "Loss after epoch 850 is :0.307821661233902\n",
            "Loss after epoch 875 is :0.30349308252334595\n",
            "Loss after epoch 900 is :0.299294650554657\n",
            "Loss after epoch 925 is :0.2952216565608978\n",
            "Loss after epoch 950 is :0.29127237200737\n",
            "Loss after epoch 975 is :0.2874399423599243\n",
            "Loss after epoch 0 is :1.1264210939407349\n",
            "Loss after epoch 25 is :0.5544131398200989\n",
            "Loss after epoch 50 is :0.5298364162445068\n",
            "Loss after epoch 75 is :0.4977395832538605\n",
            "Loss after epoch 100 is :0.46255752444267273\n",
            "Loss after epoch 125 is :0.4318941831588745\n",
            "Loss after epoch 150 is :0.40816792845726013\n",
            "Loss after epoch 175 is :0.3896641433238983\n",
            "Loss after epoch 200 is :0.37420573830604553\n",
            "Loss after epoch 225 is :0.3605630695819855\n",
            "Loss after epoch 250 is :0.3485782742500305\n",
            "Loss after epoch 275 is :0.3381193280220032\n",
            "Loss after epoch 300 is :0.3288458585739136\n",
            "Loss after epoch 325 is :0.32053694128990173\n",
            "Loss after epoch 350 is :0.3130419850349426\n",
            "Loss after epoch 375 is :0.306229829788208\n",
            "Loss after epoch 400 is :0.3000045716762543\n",
            "Loss after epoch 425 is :0.29428529739379883\n",
            "Loss after epoch 450 is :0.28900882601737976\n",
            "Loss after epoch 475 is :0.2841109335422516\n",
            "Loss after epoch 500 is :0.2795460522174835\n",
            "Loss after epoch 525 is :0.27528101205825806\n",
            "Loss after epoch 550 is :0.27129411697387695\n",
            "Loss after epoch 575 is :0.26757073402404785\n",
            "Loss after epoch 600 is :0.2640881836414337\n",
            "Loss after epoch 625 is :0.2608126997947693\n",
            "Loss after epoch 650 is :0.25771600008010864\n",
            "Loss after epoch 675 is :0.2547858953475952\n",
            "Loss after epoch 700 is :0.25202035903930664\n",
            "Loss after epoch 725 is :0.249406635761261\n",
            "Loss after epoch 750 is :0.24692663550376892\n",
            "Loss after epoch 775 is :0.24456872045993805\n",
            "Loss after epoch 800 is :0.24233795702457428\n",
            "Loss after epoch 825 is :0.24022617936134338\n",
            "Loss after epoch 850 is :0.23821866512298584\n",
            "Loss after epoch 875 is :0.23630332946777344\n",
            "Loss after epoch 900 is :0.2344694435596466\n",
            "Loss after epoch 925 is :0.23270925879478455\n",
            "Loss after epoch 950 is :0.23102159798145294\n",
            "Loss after epoch 975 is :0.2294015735387802\n"
          ]
        }
      ]
    },
    {
      "cell_type": "code",
      "source": [
        "##### Part D\n",
        "\n",
        "preds=net.predict(x)\n",
        "accuracy_train=torch.sum(100*(preds==y))/len(preds)\n",
        "accuracy_train=accuracy_train.to('cpu')\n",
        "print(\"Train accuracy:\"+str(np.array(accuracy_train))+\"%\")\n",
        "print(\"Train error:\"+str(100-np.array(accuracy_train))+\"%\")\n",
        "x_test,y_test=next(iter(test_loader))\n",
        "x_test,y_test=x_test.to(device),y_test.to(device)\n",
        "x_test=torch.reshape(x_test,(num_test,x_test.shape[2]*x_test.shape[3]))\n",
        "preds=net.predict(x_test)\n",
        "accuracy_test=torch.sum(100*(preds==y_test))/len(preds)\n",
        "accuracy_test=accuracy_test.to('cpu')\n",
        "print(\"Test accuracy:\"+str(np.array(accuracy_test))+\"%\")\n",
        "print(\"Test error:\"+str(100-np.array(accuracy_test))+\"%\")\n",
        "\n"
      ],
      "metadata": {
        "colab": {
          "base_uri": "https://localhost:8080/"
        },
        "id": "DwM3aKVj64SG",
        "outputId": "1e16b4c7-3cb1-4b90-b2db-831196c13fe7"
      },
      "execution_count": 5,
      "outputs": [
        {
          "output_type": "stream",
          "name": "stdout",
          "text": [
            "Train accuracy:91.397995%\n",
            "Train error:8.602005004882812%\n",
            "Test accuracy:91.329994%\n",
            "Test error:8.670005798339844%\n"
          ]
        }
      ]
    },
    {
      "cell_type": "code",
      "source": [
        "# Unsupervised Learning\n",
        "\n",
        "\n",
        "# Part A\n",
        "# For negative images, we have to generate hybrid images, by help of masks.\n",
        "# These masks are generated randomly with the probability of p=0.1 ==> 0.1 and\n",
        "# 1-p = 0.9 ==> 0\n",
        "\n",
        "\n",
        "def combined_image_for_negative(x,masks):\n",
        "    x_new=torch.zeros(x.shape)\n",
        "    for i in range(x_new.shape[0]):\n",
        "        index=np.random.randint(x.shape[0])\n",
        "        x_new[i,:,:]=torch.multiply(masks[i,:,:],x[i,:,:])+torch.multiply(1-masks[i,:,:],x[index,:,:])\n",
        "\n",
        "\n",
        "    return x_new\n",
        "\n",
        "\n",
        "p=0.5\n",
        "values=[1,0]\n",
        "probs=[p,1-p]\n",
        "masks=torch.zeros((x.shape[0], int(np.sqrt(x.shape[1])),int(np.sqrt(x.shape[1]))))\n",
        "mask=torch.zeros(( int(np.sqrt(x.shape[1])),int(np.sqrt(x.shape[1]))))\n",
        "for j in range(mask.shape[0]):\n",
        "   for k in range(mask.shape[1]):\n",
        "    mask[j,k]=random.choices(values,probs)[0]\n",
        "for i in range(num_train):\n",
        "    masks[i,:,:]=mask\n"
      ],
      "metadata": {
        "id": "NBOd-NoD8d10"
      },
      "execution_count": 6,
      "outputs": []
    },
    {
      "cell_type": "code",
      "source": [
        "# Part B\n",
        "x_positive=x\n",
        "x=x.to('cpu')\n",
        "x_image=np.reshape(x,(x.shape[0], int(np.sqrt(x.shape[1])),int(np.sqrt(x.shape[1]))))\n",
        "x_negative=combined_image_for_negative(x_image,masks)\n",
        "x_negative=torch.reshape(x_negative,(num_train,x_negative.shape[1]*x_negative.shape[2]))\n",
        "x_negative=x_negative.to(device)\n",
        "x_positive=x_positive.to(device)\n",
        "x=x.to(device)\n",
        "index_for_img=np.random.randint(num_train)\n",
        "plt.subplot(1,2,1)\n",
        "the_img_pos=torch.reshape(x_positive[index_for_img,:],(28,28))\n",
        "the_img_pos=the_img_pos.to('cpu')\n",
        "the_img_numpy_pos=the_img_pos.numpy()\n",
        "plt.imshow(np.array(255*the_img_numpy_pos,dtype=np.uint8),cmap='gray')\n",
        "plt.title(\"Real Image\")\n",
        "plt.subplot(1,2,2)\n",
        "the_img_neg=torch.reshape(x_negative[index_for_img,:],(28,28))\n",
        "the_img_neg=the_img_neg.to('cpu')\n",
        "the_img_numpy_neg=the_img_neg.numpy()\n",
        "plt.imshow(np.array(255*the_img_numpy_neg,dtype=np.uint8),cmap='gray')\n",
        "plt.title(\"Hybrid Image\")\n"
      ],
      "metadata": {
        "colab": {
          "base_uri": "https://localhost:8080/",
          "height": 326
        },
        "id": "xCzPaxSq8vEl",
        "outputId": "64597833-6c80-465d-939b-bac0e201ee51"
      },
      "execution_count": 7,
      "outputs": [
        {
          "output_type": "execute_result",
          "data": {
            "text/plain": [
              "Text(0.5, 1.0, 'Hybrid Image')"
            ]
          },
          "metadata": {},
          "execution_count": 7
        },
        {
          "output_type": "display_data",
          "data": {
            "text/plain": [
              "<Figure size 640x480 with 2 Axes>"
            ],
            "image/png": "[encoded data removed]"
          },
          "metadata": {}
        }
      ]
    },
    {
      "cell_type": "code",
      "source": [
        "class TheLayerInNN(nn.Linear):\n",
        "    def __init__(self, in_features, out_features, bias=True, device=None, dtype=None):\n",
        "        super().__init__(in_features, out_features, bias, device, dtype)\n",
        "        self.num_epochs = 1000\n",
        "        self.threshold = 2 # it seems that the best value for threshold is 2 by doing experiments.\n",
        "\n",
        "\n",
        "    def forward(self, x):\n",
        "        #We normalize all x and then do forward pass.\n",
        "        x=x/(x.norm(2,1,keepdim=True)+1e-4)\n",
        "        # We do forward pass, (like HW 2, Python Exercise, Question 1) and use ReLU activation function\n",
        "        # Moreover, we had to add 1 dimension to make the add operator possible between b and xw.T\n",
        "        z=torch.matmul(x, self.weight.T) + torch.unsqueeze(self.bias,(0))\n",
        "        return torch.relu(z)\n",
        "\n",
        "    def train(self,x_positive,x_negative):\n",
        "        opt_function=Adam(self.parameters(),lr=0.03)\n",
        "        #In each epoch, we calculate\n",
        "        for i in range(self.num_epochs):\n",
        "\n",
        "            # To compute the goodness, we need to use power 2 of x_positive and x_negative to compare them\n",
        "            # with the threshold.\n",
        "\n",
        "            # The optimization function is power 2 of the output of the neural.\n",
        "            # Also we use the mean on all the weights to creat a number of every image.\n",
        "            # Thus, for every image, we can compare it with a threshold and decide that what class should it be classified\n",
        "\n",
        "            positive_data=torch.mean(self.forward(x_positive)**2,axis=1)\n",
        "            negative_data=torch.mean(self.forward(x_negative)**2,axis=1)\n",
        "\n",
        "            #ccording to objective function mentioned in the quesion we need to concatenate the two parts\n",
        "            # of the loss, so we have:\n",
        "\n",
        "            loss=torch.log(1+torch.exp(torch.cat([self.threshold-positive_data,negative_data-self.threshold])))\n",
        "            loss=torch.mean(loss)\n",
        "\n",
        "            # we set gradient to zero for calculation a forward gradient according to next lines:\n",
        "            opt_function.zero_grad()\n",
        "            loss.backward()\n",
        "\n",
        "            #We did not use backpropagation, we just update the value of loss by using loss.backward()\n",
        "            opt_function.step()\n",
        "            if i%25== 0:\n",
        "                print(\"Loss after epoch \"+str(i)+\" is :\"+str(loss.item()))\n",
        "        #for hardware issues, we use .detach()\n",
        "        return self.forward(x_positive).detach(), self.forward(x_negative).detach()\n",
        "\n",
        "\n",
        "\n",
        "\n",
        "class ForwardToForwardNN(torch.nn.Module):\n",
        "    def __init__(self, dims):\n",
        "\n",
        "        super().__init__()\n",
        "        self.layers = []\n",
        "        # if we have L layers, we need to consider L-1 stages\n",
        "        #for calculating weights, so we append all the layers:\n",
        "        L=len(dims)\n",
        "        for d in range(L-1):\n",
        "            self.layers=self.layers+[(TheLayerInNN(dims[d],dims[d+1]).to(device))]\n",
        "\n",
        "\n",
        "    #In all layers, we calculate x_positive and x_negative and pass these arguments through the network.\n",
        "\n",
        "\n",
        "    def train(self, x_positive, x_negative):\n",
        "        for i, layer in enumerate(self.layers):\n",
        "            x_positive,x_negative=layer.train(x_positive,x_negative)\n",
        "\n",
        "\n",
        "\n",
        "    def predict(self, x):\n",
        "        goodness_per_label = []\n",
        "        for label in range(10):\n",
        "            #We consider all labels from 0 to 9 in MNIST data, so\n",
        "            # we determine x_positive for all these.\n",
        "            x_positive=combined_image(x,label)\n",
        "            goodness=[]\n",
        "            # In all layers of the network, we first, pass the input through network,\n",
        "            # then calculate loss_function( or goodness )\n",
        "\n",
        "            # Note that for all goodnesses, we combination\n",
        "            # the previous value and new value of goodness using \"+\" with the new list.\n",
        "\n",
        "            for layer in self.layers:\n",
        "                x_positive = layer(x_positive)\n",
        "                goodness=goodness+[torch.mean(x_positive*x_positive,axis=1)]\n",
        "\n",
        "            goodness_per_label+=[torch.unsqueeze(sum(goodness),(1))]\n",
        "\n",
        "        #We have 10 classes, so we concatenate features to decide which class has the most probability.\n",
        "        #by the following code:\n",
        "        goodness_per_label=torch.cat(goodness_per_label,1)\n",
        "\n",
        "        #We consider the maximum value among the value that goodness decides as the predicted label.\n",
        "        return goodness_per_label.argmax(1)\n",
        "\n",
        "\n",
        "\n",
        "\n",
        "dims=[x.shape[1],256,256]\n",
        "net=ForwardToForwardNN(dims=dims)\n",
        "#net=Net([x.shape[1],2000,2000,2000,2000])# it seems that the proposed architecture in the article is too massive!\n",
        "# so I used a 256*256 hidden layers instead of 2000*2000*2000*2000.\n",
        "\n",
        "net.train(x_positive,x_negative)\n",
        "\n"
      ],
      "metadata": {
        "colab": {
          "base_uri": "https://localhost:8080/"
        },
        "id": "RIKoQTXo-Czc",
        "outputId": "43ef52a8-057f-489b-bdc9-daf61c8afa60"
      },
      "execution_count": 9,
      "outputs": [
        {
          "output_type": "stream",
          "name": "stdout",
          "text": [
            "Loss after epoch 0 is :1.126747727394104\n",
            "Loss after epoch 25 is :0.712084174156189\n",
            "Loss after epoch 50 is :0.6959106922149658\n",
            "Loss after epoch 75 is :0.6687073111534119\n",
            "Loss after epoch 100 is :0.6175317168235779\n",
            "Loss after epoch 125 is :0.5543983578681946\n",
            "Loss after epoch 150 is :0.5010771155357361\n",
            "Loss after epoch 175 is :0.46638020873069763\n",
            "Loss after epoch 200 is :0.43862560391426086\n",
            "Loss after epoch 225 is :0.4152476489543915\n",
            "Loss after epoch 250 is :0.39578667283058167\n",
            "Loss after epoch 275 is :0.3793778717517853\n",
            "Loss after epoch 300 is :0.3652878403663635\n",
            "Loss after epoch 325 is :0.3529853820800781\n",
            "Loss after epoch 350 is :0.3420945107936859\n",
            "Loss after epoch 375 is :0.33233901858329773\n",
            "Loss after epoch 400 is :0.3235168159008026\n",
            "Loss after epoch 425 is :0.31547415256500244\n",
            "Loss after epoch 450 is :0.30809032917022705\n",
            "Loss after epoch 475 is :0.30127009749412537\n",
            "Loss after epoch 500 is :0.2949378490447998\n",
            "Loss after epoch 525 is :0.28903326392173767\n",
            "Loss after epoch 550 is :0.28351113200187683\n",
            "Loss after epoch 575 is :0.27833613753318787\n",
            "Loss after epoch 600 is :0.27348002791404724\n",
            "Loss after epoch 625 is :0.2689152657985687\n",
            "Loss after epoch 650 is :0.26461660861968994\n",
            "Loss after epoch 675 is :0.26056087017059326\n",
            "Loss after epoch 700 is :0.25672680139541626\n",
            "Loss after epoch 725 is :0.25309476256370544\n",
            "Loss after epoch 750 is :0.24964679777622223\n",
            "Loss after epoch 775 is :0.2463662028312683\n",
            "Loss after epoch 800 is :0.24323831498622894\n",
            "Loss after epoch 825 is :0.24025048315525055\n",
            "Loss after epoch 850 is :0.23739171028137207\n",
            "Loss after epoch 875 is :0.23465128242969513\n",
            "Loss after epoch 900 is :0.2320200651884079\n",
            "Loss after epoch 925 is :0.2294897735118866\n",
            "Loss after epoch 950 is :0.22705280780792236\n",
            "Loss after epoch 975 is :0.2247024029493332\n",
            "Loss after epoch 0 is :1.1264363527297974\n",
            "Loss after epoch 25 is :0.5179499983787537\n",
            "Loss after epoch 50 is :0.47064247727394104\n",
            "Loss after epoch 75 is :0.4503295123577118\n",
            "Loss after epoch 100 is :0.43543437123298645\n",
            "Loss after epoch 125 is :0.42335617542266846\n",
            "Loss after epoch 150 is :0.4135759174823761\n",
            "Loss after epoch 175 is :0.4056606888771057\n",
            "Loss after epoch 200 is :0.39924100041389465\n",
            "Loss after epoch 225 is :0.39401233196258545\n",
            "Loss after epoch 250 is :0.38972800970077515\n",
            "Loss after epoch 275 is :0.38618898391723633\n",
            "Loss after epoch 300 is :0.3832293748855591\n",
            "Loss after epoch 325 is :0.38070210814476013\n",
            "Loss after epoch 350 is :0.37846389412879944\n",
            "Loss after epoch 375 is :0.37635186314582825\n",
            "Loss after epoch 400 is :0.37418726086616516\n",
            "Loss after epoch 425 is :0.3718516230583191\n",
            "Loss after epoch 450 is :0.36939263343811035\n",
            "Loss after epoch 475 is :0.36698880791664124\n",
            "Loss after epoch 500 is :0.36477869749069214\n",
            "Loss after epoch 525 is :0.36277052760124207\n",
            "Loss after epoch 550 is :0.36092713475227356\n",
            "Loss after epoch 575 is :0.3592148423194885\n",
            "Loss after epoch 600 is :0.3576008975505829\n",
            "Loss after epoch 625 is :0.3560590147972107\n",
            "Loss after epoch 650 is :0.3545670211315155\n",
            "Loss after epoch 675 is :0.3531072437763214\n",
            "Loss after epoch 700 is :0.3516659736633301\n",
            "Loss after epoch 725 is :0.3502383828163147\n",
            "Loss after epoch 750 is :0.34882593154907227\n",
            "Loss after epoch 775 is :0.3474296033382416\n",
            "Loss after epoch 800 is :0.34605279564857483\n",
            "Loss after epoch 825 is :0.344697505235672\n",
            "Loss after epoch 850 is :0.34336599707603455\n",
            "Loss after epoch 875 is :0.3420621454715729\n",
            "Loss after epoch 900 is :0.34078940749168396\n",
            "Loss after epoch 925 is :0.3395496904850006\n",
            "Loss after epoch 950 is :0.3383431136608124\n",
            "Loss after epoch 975 is :0.3371680676937103\n"
          ]
        }
      ]
    },
    {
      "cell_type": "code",
      "source": [
        "##### Part D\n",
        "\n",
        "preds=net.predict(x)\n",
        "accuracy_train=torch.sum(100*(preds==y))/len(preds)\n",
        "accuracy_train=accuracy_train.to('cpu')\n",
        "print(\"Train accuracy:\"+str(np.array(accuracy_train))+\"%\")\n",
        "print(\"Train error:\"+str(100-np.array(accuracy_train))+\"%\")\n",
        "x_test,y_test=next(iter(test_loader))\n",
        "x_test,y_test=x_test.to(device),y_test.to(device)\n",
        "x_test=torch.reshape(x_test,(num_test,x_test.shape[2]*x_test.shape[3]))\n",
        "preds=net.predict(x_test)\n",
        "accuracy_test=torch.sum(100*(preds==y_test))/len(preds)\n",
        "accuracy_test=accuracy_test.to('cpu')\n",
        "print(\"Test accuracy:\"+str(np.array(accuracy_test))+\"%\")\n",
        "print(\"Test error:\"+str(100-np.array(accuracy_test))+\"%\")\n",
        "\n"
      ],
      "metadata": {
        "colab": {
          "base_uri": "https://localhost:8080/"
        },
        "id": "R3R_w5XNAnEx",
        "outputId": "e4cb4643-3697-4e54-a1a4-01148079fa84"
      },
      "execution_count": 10,
      "outputs": [
        {
          "output_type": "stream",
          "name": "stdout",
          "text": [
            "Train accuracy:10.191999%\n",
            "Train error:89.8080005645752%\n",
            "Test accuracy:10.309999%\n",
            "Test error:89.69000053405762%\n"
          ]
        }
      ]
    }
  ],
  "metadata": {
    "colab": {
      "toc_visible": true,
      "provenance": [],
      "gpuType": "T4"
    },
    "kernelspec": {
      "display_name": "Python 3",
      "name": "python3"
    },
    "accelerator": "GPU"
  },
  "nbformat": 4,
  "nbformat_minor": 0
}